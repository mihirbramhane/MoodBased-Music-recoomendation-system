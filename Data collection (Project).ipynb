{
 "cells": [
  {
   "cell_type": "code",
   "execution_count": 1,
   "id": "9d6a602d",
   "metadata": {},
   "outputs": [],
   "source": [
    "# pip install mediapipe"
   ]
  },
  {
   "cell_type": "code",
   "execution_count": 1,
   "id": "89ff6bc2",
   "metadata": {},
   "outputs": [],
   "source": [
    "import  mediapipe as mp"
   ]
  },
  {
   "cell_type": "code",
   "execution_count": 2,
   "id": "1bed9aa3",
   "metadata": {},
   "outputs": [],
   "source": [
    "import cv2 \n",
    "import numpy as np "
   ]
  },
  {
   "cell_type": "code",
   "execution_count": null,
   "id": "7e00fbd8",
   "metadata": {},
   "outputs": [],
   "source": [
    "cap = cv2.VideoCapture(0)\n",
    "\n",
    "name = input(\"Enter the name of the data : \")\n",
    "\n",
    "holistic = mp.solutions.holistic #to capture all body moments,object\n",
    "hands = mp.solutions.hands #hands for showing visuals\n",
    "holis = holistic.Holistic()\n",
    "drawing = mp.solutions.drawing_utils #to show visuals\n",
    "\n",
    "X = [] \n",
    "data_size = 0 #data size is  trigger\n",
    "\n",
    "while True:\n",
    "    lst = [] #will consist collection of all the rows (1020 columns of landmarks)\n",
    "    \n",
    "    _, frm = cap.read()\n",
    "    \n",
    "    frm = cv2.flip(frm, 1) #no mirror image flipcode -1(left to riht)\n",
    "    \n",
    "    res = holis.process(cv2.cvtColor(frm, cv2.COLOR_BGR2RGB)) \n",
    "    \n",
    "    if res.face_landmarks: #if thier is someone in frame\n",
    "        for i in res.face_landmarks.landmark:\n",
    "            lst.append(i.x - res.face_landmarks.landmark[1].x) #iterating thorugh all of the objwects\n",
    "            lst.append(i.y - res.face_landmarks.landmark[1].y)\n",
    "            \n",
    "        if res.left_hand_landmarks: #storing it on left hand side, iterating through x axis and y axis\n",
    "            for i in res.left_hand_landmarks.landmark:\n",
    "                lst.append(i.x - res.left_hand_landmarks.landmark[8].x) # 8th landmaek point of left hand w.r.t to thhat\n",
    "                lst.append(i.y - res.left_hand_landmarks.landmark[8].y)\n",
    "                \n",
    "        else: #if left hand is not in frame\n",
    "            for i in range(42):\n",
    "                lst.append(0.0) #storing it in frame\n",
    "                \n",
    "        if res.right_hand_landmarks: #for right hand landmark\n",
    "            for i in res.right_hand_landmarks.landmark:\n",
    "                lst.append(i.x - res.right_hand_landmarks.landmark[8].x)\n",
    "                lst.append(i.y - res.right_hand_landmarks.landmark[8].y) \n",
    "                #as their will be different positions in frame having different values w.rt to particular \n",
    "        else:\n",
    "            for i in range(42):\n",
    "                lst.append(0.0)\n",
    "                \n",
    "                \n",
    "        X.append(lst) \n",
    "        data_size = data_size+1 #incrementing data size storing one row in data set\n",
    "\n",
    "\n",
    "    drawing.draw_landmarks(frm, res.face_landmarks, holistic.FACEMESH_CONTOURS) #used to draw landmarks\n",
    "    drawing.draw_landmarks(frm, res.left_hand_landmarks, hands.HAND_CONNECTIONS)\n",
    "    drawing.draw_landmarks(frm, res.right_hand_landmarks, hands.HAND_CONNECTIONS)\n",
    "\n",
    "    cv2.putText(frm, str(data_size), (50,50), cv2.FONT_HERSHEY_SIMPLEX, 1, (0,255,0),2) #data size converted in strong Text string to be drawn.\n",
    "    #it denotes the font type.\n",
    "    cv2.imshow(\"window\", frm)\n",
    "    \n",
    "\n",
    "    if cv2.waitKey(1) == 27 or data_size>99:\n",
    "        cv2.destroyAllWindows()\n",
    "        cap.release()\n",
    "        break\n",
    "\n",
    "\n",
    "np.save(f\"{name}.npy\", np.array(X)) #saving data in numpy format for one imogi using foramat specifier\n",
    "print(np.array(X).shape)\n",
    "#data shape 100 rows and 1020 columns"
   ]
  },
  {
   "cell_type": "code",
   "execution_count": null,
   "id": "8d210d56",
   "metadata": {},
   "outputs": [],
   "source": []
  },
  {
   "cell_type": "code",
   "execution_count": null,
   "id": "d1e0fa99",
   "metadata": {},
   "outputs": [],
   "source": []
  }
 ],
 "metadata": {
  "kernelspec": {
   "display_name": "HandGestureRecognitionSystem",
   "language": "python",
   "name": "handgesturerecognitionsystem"
  },
  "language_info": {
   "codemirror_mode": {
    "name": "ipython",
    "version": 3
   },
   "file_extension": ".py",
   "mimetype": "text/x-python",
   "name": "python",
   "nbconvert_exporter": "python",
   "pygments_lexer": "ipython3",
   "version": "3.10.9"
  }
 },
 "nbformat": 4,
 "nbformat_minor": 5
}
